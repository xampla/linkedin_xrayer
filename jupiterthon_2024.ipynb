{
 "cells": [
  {
   "cell_type": "markdown",
   "id": "911c8154-cdc9-47ae-b867-f3b969ca6130",
   "metadata": {
    "tags": []
   },
   "source": [
    "# X-Raying LinkedIn and email discovery - InfoSec Jupyterthon 2024\n",
    "\n",
    "## Introduction\n",
    "In this notebook, we'll leverage the power of Google dorking to search for employees associated with a given organization and retrieve emails."
   ]
  },
  {
   "cell_type": "markdown",
   "id": "895ad025-b90e-44fa-8d17-4579cd9fc115",
   "metadata": {},
   "source": [
    "## Setup\n",
    "First, we'll define the required imports, API keys and the target."
   ]
  },
  {
   "cell_type": "code",
   "execution_count": null,
   "id": "0cbfd5c8-5a87-4cb1-a1d0-d0d3ca59a9d1",
   "metadata": {},
   "outputs": [],
   "source": [
    "import requests\n",
    "import json\n",
    "import re\n",
    "\n",
    "# Google Custom Search JSON API\n",
    "# https://developers.google.com/custom-search/v1/introduction\n",
    "API_KEY = \"\"\n",
    "ID = \"\"\n",
    "\n",
    "TARGET = \"microsoft\"\n",
    "TARGET_DOMAIN = \"microsoft.com\""
   ]
  },
  {
   "cell_type": "markdown",
   "id": "6327a6b1-a6de-4687-ba36-2f11691125fc",
   "metadata": {},
   "source": [
    "## Function Definitions\n",
    "Next, we'll define the functions used in our scraper:\n",
    "- `execute_dorks`: Retrieves search results from the Google Custom Search API."
   ]
  },
  {
   "cell_type": "code",
   "execution_count": null,
   "id": "09e38ef9-52ff-4b37-ae00-05d40c568dc0",
   "metadata": {},
   "outputs": [],
   "source": [
    "def execute_dorks(query, type):\n",
    "    start = 1\n",
    "    total_results = 0\n",
    "    total_gathered = 0\n",
    "    limit = False\n",
    "    results = True\n",
    "    info = []\n",
    "\n",
    "    while results and start<100 and not limit:\n",
    "        payload = {\"key\":API_KEY,\"cx\":ID,\"start\":start,\"q\":query}\n",
    "        res = requests.get(\"https://www.googleapis.com/customsearch/v1\",params=payload)\n",
    "        data = json.loads(res.text)\n",
    "        if \"error\" in data:\n",
    "            print(data[\"error\"][\"status\"])\n",
    "            limit = True\n",
    "        else:\n",
    "            if start == 1:\n",
    "                total_results = data[\"searchInformation\"][\"totalResults\"]\n",
    "            if \"items\" in data:\n",
    "                for item in data[\"items\"]:\n",
    "                    try:\n",
    "                        if type == \"names\":\n",
    "                            l = item[\"link\"].split(\"?\")[0] if \"?\" in item[\"link\"] else item[\"link\"]\n",
    "                            first_name = item[\"pagemap\"][\"metatags\"][0][\"profile:first_name\"]\n",
    "                            last_name = item[\"pagemap\"][\"metatags\"][0][\"profile:last_name\"]\n",
    "                            name = f\"{first_name} {last_name}\"\n",
    "                            info.append((name,l))\n",
    "                        elif type == \"emails\":\n",
    "                            l = item[\"link\"].split(\"?\")[0] if \"?\" in item[\"link\"] else item[\"link\"]\n",
    "                            regex = r\"[\\%a-zA-Z\\.0-9_\\-\\+]+@\" + TARGET_DOMAIN\n",
    "                            text = json.dumps(item)\n",
    "                            emails = re.findall(regex, text.replace(\"<em>\", \"\").replace(\"<\\em>\",\"\")\n",
    "                                                .replace(\"<strong>\", \"\").replace(\"</strong>\", \"\")\n",
    "                                                .replace(\"<b>\", \"\").replace(\"</b>\", \"\"))\n",
    "                            info += emails\n",
    "                        total_gathered = total_gathered + 1\n",
    "                    except KeyError as e:\n",
    "                        pass\n",
    "                    except Exception as e:\n",
    "                        print(f\"Unexpected error: {str(e)}\")\n",
    "            else:\n",
    "                results = False\n",
    "\n",
    "        start = start + 10\n",
    "    return (info,total_results,total_gathered,limit)"
   ]
  },
  {
   "cell_type": "markdown",
   "id": "61b1d74e-90d0-493a-b086-3df53ca06435",
   "metadata": {},
   "source": [
    "- `linkedin_xray`: X-Rays LinkedIn to find profiles based on the organization name."
   ]
  },
  {
   "cell_type": "code",
   "execution_count": null,
   "id": "10d845d3-51c0-406a-a2ad-99b5422f564a",
   "metadata": {},
   "outputs": [],
   "source": [
    "def linkedin_xray(role=\"\"):\n",
    "\tdork = f'site:linkedin.com -inurl:jobs -inurl:company -inurl:posts -inurl:pulse -inurl:learning \"{TARGET}\" \"{role}\"'\n",
    "\tinfo,total_results,total_gathered,limit = execute_dorks(dork, \"names\")\n",
    "\tfor employee in info:\n",
    "\t\tprint(\"[\\033[92m*\\033[00m] \"+ employee[0] + \": \" + employee[1])"
   ]
  },
  {
   "cell_type": "markdown",
   "id": "dd7d2c70-e4fe-4682-93e5-b43d6ec53729",
   "metadata": {},
   "source": [
    "## Main Execution\n",
    "Finally, we'll execute the function.\n"
   ]
  },
  {
   "cell_type": "code",
   "execution_count": null,
   "id": "428222a8-1841-45df-af75-55407893ef8b",
   "metadata": {},
   "outputs": [],
   "source": [
    "linkedin_xray()"
   ]
  },
  {
   "cell_type": "markdown",
   "id": "e566f1c3-6645-40fa-9124-fcd7728db3a1",
   "metadata": {},
   "source": [
    "Extracting more names can be achieved by adding roles to the dork."
   ]
  },
  {
   "cell_type": "code",
   "execution_count": null,
   "id": "3d168723-825a-4a50-8505-0c90749f6568",
   "metadata": {},
   "outputs": [],
   "source": [
    "roles = [\n",
    "    \"CTO\",\n",
    "    \"Manager\",\n",
    "    \"Engineer\",\n",
    "    \"Developer\",\n",
    "    \"Administrator\"\n",
    "]\n",
    "\n",
    "for role in roles:\n",
    "    linkedin_xray(role)"
   ]
  },
  {
   "cell_type": "markdown",
   "id": "f484a4d7-458d-43da-8208-2b6fc01ddde7",
   "metadata": {},
   "source": [
    "- `find_emails`: Find emails from dorks."
   ]
  },
  {
   "cell_type": "code",
   "execution_count": null,
   "id": "a71558b9-7a9a-4564-839a-26e4e7735f4c",
   "metadata": {
    "editable": true,
    "slideshow": {
     "slide_type": ""
    },
    "tags": []
   },
   "outputs": [],
   "source": [
    "def find_emails():\n",
    "    dorks = [f'{TARGET_DOMAIN} \"e-mail\"',\n",
    "             f'{TARGET_DOMAIN} *@{TARGET_DOMAIN}',\n",
    "             f'intext:\"@{TARGET_DOMAIN}\" (site:linkedin.com OR site:github.com)',\n",
    "             f'intext:\"@{TARGET_DOMAIN}\" (site:twitter.com OR site:facebook.com OR site:instagram.com)',\n",
    "             f'intext:\"@{TARGET_DOMAIN}\" (filetype:log OR filetype:sql OR site:pastebin.com)',\n",
    "             f'intext:\"@{TARGET_DOMAIN}\" (filetype:pdf OR filetype:doc OR filetype:docx)',\n",
    "             f'intext:\"@{TARGET_DOMAIN}\" (inurl:email OR inurl:contacts OR inurl:about)']\n",
    "    for dork in dorks:\n",
    "        (info, total, gathered, limit) = execute_dorks(dork, \"emails\")\n",
    "        for email in info:\n",
    "            print(email)\n",
    "        \n",
    "\t\t\n",
    "    "
   ]
  },
  {
   "cell_type": "markdown",
   "id": "7170ac0b-844a-4da0-b1c7-2a9567dfcc75",
   "metadata": {},
   "source": [
    "Executing the function to retrieve emails using dorks."
   ]
  },
  {
   "cell_type": "code",
   "execution_count": null,
   "id": "b82a4cf6-57af-4da2-90a9-c167b6cc9347",
   "metadata": {},
   "outputs": [],
   "source": [
    "find_emails()"
   ]
  },
  {
   "cell_type": "markdown",
   "id": "cbbd354a-03ca-4fdd-b779-3bcab06810aa",
   "metadata": {},
   "source": [
    "## Conclusions\n",
    "Dorks can be very powerful not only for emails and names discovery but for more type of entities, even to find vulnerable websites. You just need to find the key elements that will help you get only the results you are looking for."
   ]
  }
 ],
 "metadata": {
  "kernelspec": {
   "display_name": "Python 3 (ipykernel)",
   "language": "python",
   "name": "python3"
  },
  "language_info": {
   "codemirror_mode": {
    "name": "ipython",
    "version": 3
   },
   "file_extension": ".py",
   "mimetype": "text/x-python",
   "name": "python",
   "nbconvert_exporter": "python",
   "pygments_lexer": "ipython3",
   "version": "3.8.10"
  }
 },
 "nbformat": 4,
 "nbformat_minor": 5
}
